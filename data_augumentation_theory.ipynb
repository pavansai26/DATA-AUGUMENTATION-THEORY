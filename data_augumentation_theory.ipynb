{
  "nbformat": 4,
  "nbformat_minor": 0,
  "metadata": {
    "colab": {
      "name": "data augumentation theory.ipynb",
      "provenance": [],
      "private_outputs": true,
      "authorship_tag": "ABX9TyPGcPl9gedVf2QUDoOGEdFZ",
      "include_colab_link": true
    },
    "kernelspec": {
      "name": "python3",
      "display_name": "Python 3"
    }
  },
  "cells": [
    {
      "cell_type": "markdown",
      "metadata": {
        "id": "view-in-github",
        "colab_type": "text"
      },
      "source": [
        "<a href=\"https://colab.research.google.com/github/pavansai26/DATA-AUGUMENTATION-THEORY/blob/master/data_augumentation_theory.ipynb\" target=\"_parent\"><img src=\"https://colab.research.google.com/assets/colab-badge.svg\" alt=\"Open In Colab\"/></a>"
      ]
    },
    {
      "cell_type": "code",
      "metadata": {
        "id": "rBOJOCyBbIMZ",
        "colab_type": "code",
        "colab": {}
      },
      "source": [
        ""
      ],
      "execution_count": 0,
      "outputs": []
    },
    {
      "cell_type": "markdown",
      "metadata": {
        "id": "0jf2ttuhbT8h",
        "colab_type": "text"
      },
      "source": [
        "# data augumentation"
      ]
    },
    {
      "cell_type": "code",
      "metadata": {
        "id": "Df0s46--cFFW",
        "colab_type": "code",
        "colab": {}
      },
      "source": [
        ""
      ],
      "execution_count": 0,
      "outputs": []
    },
    {
      "cell_type": "markdown",
      "metadata": {
        "id": "nSwTgmoZcXJj",
        "colab_type": "text"
      },
      "source": [
        "# WHAT IS IMAGE AUGUMNETATION"
      ]
    },
    {
      "cell_type": "code",
      "metadata": {
        "id": "pR_b4eIncdun",
        "colab_type": "code",
        "colab": {}
      },
      "source": [
        ""
      ],
      "execution_count": 0,
      "outputs": []
    },
    {
      "cell_type": "markdown",
      "metadata": {
        "id": "N6RF70vacf97",
        "colab_type": "text"
      },
      "source": [
        "\n",
        "\n",
        "1. It  is a very powerful technique used to artificially create variations in existing images to expand an existing image data set.\n",
        "2. This creates new and different images from the existing image data set that represents a comprehensive set of possible images.\n",
        "\n"
      ]
    },
    {
      "cell_type": "code",
      "metadata": {
        "id": "rs2OnHvCcyjY",
        "colab_type": "code",
        "colab": {}
      },
      "source": [
        ""
      ],
      "execution_count": 0,
      "outputs": []
    },
    {
      "cell_type": "markdown",
      "metadata": {
        "id": "PGzlz-Y_c5mW",
        "colab_type": "text"
      },
      "source": [
        "# WHY DO WE NEED IMAGE AUGUMENTATION"
      ]
    },
    {
      "cell_type": "code",
      "metadata": {
        "id": "SCZrgELDdCi-",
        "colab_type": "code",
        "colab": {}
      },
      "source": [
        ""
      ],
      "execution_count": 0,
      "outputs": []
    },
    {
      "cell_type": "markdown",
      "metadata": {
        "id": "lrZ6kxHGdDfG",
        "colab_type": "text"
      },
      "source": [
        "\n",
        "\n",
        "1. Deep learning Convolutional Neural Networks(CNN) need a huge number of images for the model to be trained effectively.\n",
        "2.  This helps to increase the performance of the model by generalizing better and thereby reducing overfitting.\n",
        "\n"
      ]
    },
    {
      "cell_type": "code",
      "metadata": {
        "id": "etpsVegadTQ3",
        "colab_type": "code",
        "colab": {}
      },
      "source": [
        ""
      ],
      "execution_count": 0,
      "outputs": []
    },
    {
      "cell_type": "markdown",
      "metadata": {
        "id": "EBPiu22ydmKa",
        "colab_type": "text"
      },
      "source": [
        "\n",
        "\n",
        "> A CNN, due to its in-variance property, can classify objects even when visible in different sizes, orientations or different illumination.\n",
        "\n"
      ]
    },
    {
      "cell_type": "code",
      "metadata": {
        "id": "lGDomGrDdr4Y",
        "colab_type": "code",
        "colab": {}
      },
      "source": [
        ""
      ],
      "execution_count": 0,
      "outputs": []
    },
    {
      "cell_type": "markdown",
      "metadata": {
        "id": "N6k-0GDYd00c",
        "colab_type": "text"
      },
      "source": [
        "# ADVANTAGES OF IMAGE AUGUMENTATION"
      ]
    },
    {
      "cell_type": "code",
      "metadata": {
        "id": "3IVmf40vd6hs",
        "colab_type": "code",
        "colab": {}
      },
      "source": [
        ""
      ],
      "execution_count": 0,
      "outputs": []
    },
    {
      "cell_type": "markdown",
      "metadata": {
        "id": "glKD4J_Nd9BO",
        "colab_type": "text"
      },
      "source": [
        "\n",
        "\n",
        "> **Image Augmentation creates a rich, diverse set of images from a small set of images for image classification, object detection or image segmentation.**\n",
        "\n"
      ]
    },
    {
      "cell_type": "code",
      "metadata": {
        "id": "FxXkseTjeDeA",
        "colab_type": "code",
        "colab": {}
      },
      "source": [
        ""
      ],
      "execution_count": 0,
      "outputs": []
    },
    {
      "cell_type": "markdown",
      "metadata": {
        "id": "45uM7ODDeIMj",
        "colab_type": "text"
      },
      "source": [
        "# When to apply Image Augmentation?"
      ]
    },
    {
      "cell_type": "code",
      "metadata": {
        "id": "bdCfuE_meM4r",
        "colab_type": "code",
        "colab": {}
      },
      "source": [
        ""
      ],
      "execution_count": 0,
      "outputs": []
    },
    {
      "cell_type": "markdown",
      "metadata": {
        "id": "Jm8XdzkZeNp3",
        "colab_type": "text"
      },
      "source": [
        "**Image augmentation can be applied as a pre-processing step before we train the model or can be applied in real time.**"
      ]
    },
    {
      "cell_type": "code",
      "metadata": {
        "id": "RanrqXTXeTch",
        "colab_type": "code",
        "colab": {}
      },
      "source": [
        ""
      ],
      "execution_count": 0,
      "outputs": []
    },
    {
      "cell_type": "markdown",
      "metadata": {
        "id": "1F8ymvPueYeE",
        "colab_type": "text"
      },
      "source": [
        "# TYPES OF AUGUMENTATION"
      ]
    },
    {
      "cell_type": "code",
      "metadata": {
        "id": "c2Kdbu2JedtV",
        "colab_type": "code",
        "colab": {}
      },
      "source": [
        ""
      ],
      "execution_count": 0,
      "outputs": []
    },
    {
      "cell_type": "markdown",
      "metadata": {
        "id": "o_Baa6TCefm5",
        "colab_type": "text"
      },
      "source": [
        "# Offline or pre-processing Augmentation"
      ]
    },
    {
      "cell_type": "code",
      "metadata": {
        "id": "KTJpq1AaekmB",
        "colab_type": "code",
        "colab": {}
      },
      "source": [
        ""
      ],
      "execution_count": 0,
      "outputs": []
    },
    {
      "cell_type": "markdown",
      "metadata": {
        "id": "NNEOX3A_em9d",
        "colab_type": "text"
      },
      "source": [
        "\n",
        "\n",
        "1.   **Augmentation is applied as a pre-processing step to increase the size of the data set. This is usually done when we have a small training data set that we want to expand.**\n",
        "2.   **Generating augmentation on smaller data set is helpful but we need to consider the disk space when applying on larger data sets**\n",
        "\n"
      ]
    },
    {
      "cell_type": "code",
      "metadata": {
        "id": "H-6sXKu2eykW",
        "colab_type": "code",
        "colab": {}
      },
      "source": [
        ""
      ],
      "execution_count": 0,
      "outputs": []
    },
    {
      "cell_type": "markdown",
      "metadata": {
        "id": "gREZnUAHe0NL",
        "colab_type": "text"
      },
      "source": [
        "# **Online or real-time Augmentation**"
      ]
    },
    {
      "cell_type": "code",
      "metadata": {
        "id": "7tg1_rlJe9b_",
        "colab_type": "code",
        "colab": {}
      },
      "source": [
        ""
      ],
      "execution_count": 0,
      "outputs": []
    },
    {
      "cell_type": "markdown",
      "metadata": {
        "id": "rZAf1CSXfBW4",
        "colab_type": "text"
      },
      "source": [
        "\n",
        "\n",
        "1.   **This is usually applied for larger data sets as we do not need to save the augmented images on the disk.**\n",
        "2. **In this case, we apply transformations in mini-batches and then feed it to the model.**\n",
        "\n"
      ]
    },
    {
      "cell_type": "code",
      "metadata": {
        "id": "Y5AiwmRMfITA",
        "colab_type": "code",
        "colab": {}
      },
      "source": [
        ""
      ],
      "execution_count": 0,
      "outputs": []
    },
    {
      "cell_type": "markdown",
      "metadata": {
        "id": "i69c69aifi98",
        "colab_type": "text"
      },
      "source": [
        "\n",
        "\n",
        "1.   **Online augmentation model will see different images at each epoch**\n",
        "2.  **In Offline augmentation, augmented image is part of the training set, it views the augmented image multiple times depending on the number of epochs.**\n",
        "\n"
      ]
    },
    {
      "cell_type": "code",
      "metadata": {
        "id": "HUs5IZKbfukE",
        "colab_type": "code",
        "colab": {}
      },
      "source": [
        ""
      ],
      "execution_count": 0,
      "outputs": []
    },
    {
      "cell_type": "markdown",
      "metadata": {
        "id": "I26R_QKSfyzx",
        "colab_type": "text"
      },
      "source": [
        "\n",
        "\n",
        "1.   **The model generalizes better with online augmentation as it sees more samples during training with online data augmentation.**\n",
        "\n"
      ]
    },
    {
      "cell_type": "code",
      "metadata": {
        "id": "DnjyIiJ8f7bc",
        "colab_type": "code",
        "colab": {}
      },
      "source": [
        ""
      ],
      "execution_count": 0,
      "outputs": []
    },
    {
      "cell_type": "markdown",
      "metadata": {
        "id": "s4aKyfUZgIAb",
        "colab_type": "text"
      },
      "source": [
        "# Basic data augmentation techniques"
      ]
    },
    {
      "cell_type": "code",
      "metadata": {
        "id": "7Cnv7QtLgM0T",
        "colab_type": "code",
        "colab": {}
      },
      "source": [
        ""
      ],
      "execution_count": 0,
      "outputs": []
    },
    {
      "cell_type": "markdown",
      "metadata": {
        "id": "JqjLd4DWgN7E",
        "colab_type": "text"
      },
      "source": [
        "\n",
        "\n",
        "1.   **Flipping: flipping the image vertically or horizontally**\n",
        "2.    **Rotation: rotates the image by a specified degree.**\n",
        "\n",
        "\n"
      ]
    },
    {
      "cell_type": "code",
      "metadata": {
        "id": "OXaGkvS7glNT",
        "colab_type": "code",
        "colab": {}
      },
      "source": [
        ""
      ],
      "execution_count": 0,
      "outputs": []
    },
    {
      "cell_type": "markdown",
      "metadata": {
        "id": "IxXH4mRhgyCG",
        "colab_type": "text"
      },
      "source": [
        "\n",
        "\n",
        "1.   **Shearing: shifts one part of the image like a parallelogram**\n",
        "2.   **Cropping: object appear in different positions in different proportions in the image**\n",
        "\n"
      ]
    },
    {
      "cell_type": "code",
      "metadata": {
        "id": "sNnkkuADhF2E",
        "colab_type": "code",
        "colab": {}
      },
      "source": [
        ""
      ],
      "execution_count": 0,
      "outputs": []
    },
    {
      "cell_type": "markdown",
      "metadata": {
        "id": "wNKzXS15hI8h",
        "colab_type": "text"
      },
      "source": [
        "\n",
        "\n",
        "1.   **Zoom in, Zoom out**\n",
        "2.   **Changing brightness or contrast**\n",
        "\n"
      ]
    },
    {
      "cell_type": "code",
      "metadata": {
        "id": "kcWnSTt_hTve",
        "colab_type": "code",
        "colab": {}
      },
      "source": [
        ""
      ],
      "execution_count": 0,
      "outputs": []
    }
  ]
}